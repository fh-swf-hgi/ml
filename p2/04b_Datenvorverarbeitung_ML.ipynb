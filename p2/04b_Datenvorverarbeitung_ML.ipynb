{
 "cells": [
  {
   "cell_type": "code",
   "execution_count": 1,
   "metadata": {},
   "outputs": [],
   "source": [
    "import pandas as pd\n",
    "import numpy as np\n",
    "from sklearn.preprocessing import *\n",
    "from sklearn.model_selection import train_test_split\n",
    "from sklearn.decomposition import PCA\n",
    "from sklearn.datasets import load_iris\n",
    "import matplotlib.pyplot as plt"
   ]
  },
  {
   "cell_type": "markdown",
   "metadata": {},
   "source": [
    "# Daten Analysieren"
   ]
  },
  {
   "cell_type": "markdown",
   "metadata": {},
   "source": [
    "Daten sind die Grundlage von Machine Learning (ML) Algorithmen.\n",
    "Debei zählt nicht nur die Masse an Daten, sondern auch, oder vor allem deren Qualität.\n",
    "Die Ergebnisse der ML-Algorithmen können nur so gut sein, wie die Qualität der Daten es zulässt.\n",
    "\n",
    "Daher ist das Verständnis von Daten ein wesentlicher Schritt für jedes ML Projekt.\n",
    "Lassen Sie uns zunächst einige grundlegende Begriffe von Daten durchgehen:\n",
    "\n",
    "Liegen die Daten in *strukturierter* Form vor so kann man sie in der Regel als Tabelle oder Matrix beschrieben.\n",
    "Die einzelnen Zeilen dieser Tabellen nennt man **Instanzen** oder **Datenpunkte**, bei den Spalten spricht man von **Attributen**, **Merkmalen** oder **Variablen**.\n",
    "\n",
    "- Ein **Datenpunkt** ist ein Datenpaket, das ein Objekt beschreibt (einen Fall, eine Person, ein Zeitpunkt, ...).\n",
    "- Ein **Attribut** ist eine messbare Eigenschaft, anhand derer Objekte beschrieben werden (Größe, Alter, Gewicht, Augenfarbe, ...).\n",
    "\n",
    "Attribute können **kategorisch** oder **numerisch** sein:\n",
    "- **Kategorisch** sind Attribute, deren Wertebereich eine endliche Menge ist (Farbe, Typ, Wochentag, ...)\n",
    "  - **Ordinal** sind katagorische Attribute mit Ordnung (sehr schlecht, schlecht, zufriedenstellend, gut, sehr gut)\n",
    "  - **Nominal** sind katagorische Attribute ohne Reihenfolge (grün, blau, gelb)\n",
    "- **Numerisch** sind Attribute, die durch Zahlen dargestellt werden (Größe, Gewicht, Temperatur, ...) und innerhalb eines endlichen oder unendlichen Intervalls einen beliebigen Wert annehmen können.\n"
   ]
  },
  {
   "cell_type": "markdown",
   "metadata": {},
   "source": [
    "Im Folgenden betrachten wir einen Datensatz für Spielerdaten aus dem FIFA 20-Videospiel:"
   ]
  },
  {
   "cell_type": "code",
   "execution_count": 61,
   "metadata": {},
   "outputs": [
    {
     "data": {
      "text/html": [
       "<div>\n",
       "<style scoped>\n",
       "    .dataframe tbody tr th:only-of-type {\n",
       "        vertical-align: middle;\n",
       "    }\n",
       "\n",
       "    .dataframe tbody tr th {\n",
       "        vertical-align: top;\n",
       "    }\n",
       "\n",
       "    .dataframe thead th {\n",
       "        text-align: right;\n",
       "    }\n",
       "</style>\n",
       "<table border=\"1\" class=\"dataframe\">\n",
       "  <thead>\n",
       "    <tr style=\"text-align: right;\">\n",
       "      <th></th>\n",
       "      <th>short_name</th>\n",
       "      <th>age</th>\n",
       "      <th>height_cm</th>\n",
       "      <th>weight_kg</th>\n",
       "      <th>nationality</th>\n",
       "      <th>club</th>\n",
       "      <th>overall</th>\n",
       "      <th>potential</th>\n",
       "      <th>value_eur</th>\n",
       "      <th>wage_eur</th>\n",
       "      <th>player_positions</th>\n",
       "      <th>preferred_foot</th>\n",
       "    </tr>\n",
       "  </thead>\n",
       "  <tbody>\n",
       "    <tr>\n",
       "      <th>0</th>\n",
       "      <td>M. Reus</td>\n",
       "      <td>30</td>\n",
       "      <td>180</td>\n",
       "      <td>71</td>\n",
       "      <td>Germany</td>\n",
       "      <td>Borussia Dortmund</td>\n",
       "      <td>88</td>\n",
       "      <td>88</td>\n",
       "      <td>56000000</td>\n",
       "      <td>170000</td>\n",
       "      <td>CAM, LM, ST</td>\n",
       "      <td>Right</td>\n",
       "    </tr>\n",
       "    <tr>\n",
       "      <th>1</th>\n",
       "      <td>M. Hummels</td>\n",
       "      <td>30</td>\n",
       "      <td>191</td>\n",
       "      <td>94</td>\n",
       "      <td>Germany</td>\n",
       "      <td>Borussia Dortmund</td>\n",
       "      <td>87</td>\n",
       "      <td>87</td>\n",
       "      <td>41000000</td>\n",
       "      <td>130000</td>\n",
       "      <td>CB</td>\n",
       "      <td>Right</td>\n",
       "    </tr>\n",
       "    <tr>\n",
       "      <th>2</th>\n",
       "      <td>R. BÃ¼rki</td>\n",
       "      <td>28</td>\n",
       "      <td>187</td>\n",
       "      <td>85</td>\n",
       "      <td>Switzerland</td>\n",
       "      <td>Borussia Dortmund</td>\n",
       "      <td>85</td>\n",
       "      <td>86</td>\n",
       "      <td>32000000</td>\n",
       "      <td>92000</td>\n",
       "      <td>GK</td>\n",
       "      <td>Right</td>\n",
       "    </tr>\n",
       "    <tr>\n",
       "      <th>3</th>\n",
       "      <td>A. Witsel</td>\n",
       "      <td>30</td>\n",
       "      <td>186</td>\n",
       "      <td>81</td>\n",
       "      <td>Belgium</td>\n",
       "      <td>Borussia Dortmund</td>\n",
       "      <td>85</td>\n",
       "      <td>85</td>\n",
       "      <td>31500000</td>\n",
       "      <td>110000</td>\n",
       "      <td>CDM, CM</td>\n",
       "      <td>Right</td>\n",
       "    </tr>\n",
       "    <tr>\n",
       "      <th>4</th>\n",
       "      <td>J. Sancho</td>\n",
       "      <td>19</td>\n",
       "      <td>180</td>\n",
       "      <td>76</td>\n",
       "      <td>England</td>\n",
       "      <td>Borussia Dortmund</td>\n",
       "      <td>84</td>\n",
       "      <td>92</td>\n",
       "      <td>44500000</td>\n",
       "      <td>61000</td>\n",
       "      <td>RM, LM</td>\n",
       "      <td>Right</td>\n",
       "    </tr>\n",
       "  </tbody>\n",
       "</table>\n",
       "</div>"
      ],
      "text/plain": [
       "   short_name  age  height_cm  weight_kg  nationality               club  \\\n",
       "0     M. Reus   30        180         71      Germany  Borussia Dortmund   \n",
       "1  M. Hummels   30        191         94      Germany  Borussia Dortmund   \n",
       "2   R. BÃ¼rki   28        187         85  Switzerland  Borussia Dortmund   \n",
       "3   A. Witsel   30        186         81      Belgium  Borussia Dortmund   \n",
       "4   J. Sancho   19        180         76      England  Borussia Dortmund   \n",
       "\n",
       "   overall  potential  value_eur  wage_eur player_positions preferred_foot  \n",
       "0       88         88   56000000    170000      CAM, LM, ST          Right  \n",
       "1       87         87   41000000    130000               CB          Right  \n",
       "2       85         86   32000000     92000               GK          Right  \n",
       "3       85         85   31500000    110000          CDM, CM          Right  \n",
       "4       84         92   44500000     61000           RM, LM          Right  "
      ]
     },
     "execution_count": 61,
     "metadata": {},
     "output_type": "execute_result"
    }
   ],
   "source": [
    "data = pd.read_csv(\"players_20.csv\", encoding = \"ISO-8859-1\")\n",
    "data.head()"
   ]
  },
  {
   "cell_type": "code",
   "execution_count": 62,
   "metadata": {},
   "outputs": [
    {
     "data": {
      "text/html": [
       "<div>\n",
       "<style scoped>\n",
       "    .dataframe tbody tr th:only-of-type {\n",
       "        vertical-align: middle;\n",
       "    }\n",
       "\n",
       "    .dataframe tbody tr th {\n",
       "        vertical-align: top;\n",
       "    }\n",
       "\n",
       "    .dataframe thead th {\n",
       "        text-align: right;\n",
       "    }\n",
       "</style>\n",
       "<table border=\"1\" class=\"dataframe\">\n",
       "  <thead>\n",
       "    <tr style=\"text-align: right;\">\n",
       "      <th></th>\n",
       "      <th>age</th>\n",
       "      <th>height_cm</th>\n",
       "      <th>weight_kg</th>\n",
       "      <th>overall</th>\n",
       "      <th>potential</th>\n",
       "      <th>value_eur</th>\n",
       "      <th>wage_eur</th>\n",
       "    </tr>\n",
       "  </thead>\n",
       "  <tbody>\n",
       "    <tr>\n",
       "      <th>count</th>\n",
       "      <td>84.000000</td>\n",
       "      <td>84.000000</td>\n",
       "      <td>84.000000</td>\n",
       "      <td>84.000000</td>\n",
       "      <td>84.000000</td>\n",
       "      <td>8.400000e+01</td>\n",
       "      <td>84.000000</td>\n",
       "    </tr>\n",
       "    <tr>\n",
       "      <th>mean</th>\n",
       "      <td>23.202381</td>\n",
       "      <td>182.523810</td>\n",
       "      <td>77.178571</td>\n",
       "      <td>70.976190</td>\n",
       "      <td>78.940476</td>\n",
       "      <td>1.078518e+07</td>\n",
       "      <td>36702.380952</td>\n",
       "    </tr>\n",
       "    <tr>\n",
       "      <th>std</th>\n",
       "      <td>4.556948</td>\n",
       "      <td>6.155566</td>\n",
       "      <td>7.147602</td>\n",
       "      <td>10.371388</td>\n",
       "      <td>6.715117</td>\n",
       "      <td>1.348020e+07</td>\n",
       "      <td>38604.818902</td>\n",
       "    </tr>\n",
       "    <tr>\n",
       "      <th>min</th>\n",
       "      <td>17.000000</td>\n",
       "      <td>169.000000</td>\n",
       "      <td>65.000000</td>\n",
       "      <td>52.000000</td>\n",
       "      <td>62.000000</td>\n",
       "      <td>1.000000e+05</td>\n",
       "      <td>1000.000000</td>\n",
       "    </tr>\n",
       "    <tr>\n",
       "      <th>25%</th>\n",
       "      <td>19.000000</td>\n",
       "      <td>178.000000</td>\n",
       "      <td>72.000000</td>\n",
       "      <td>60.750000</td>\n",
       "      <td>74.000000</td>\n",
       "      <td>4.250000e+05</td>\n",
       "      <td>1000.000000</td>\n",
       "    </tr>\n",
       "    <tr>\n",
       "      <th>50%</th>\n",
       "      <td>22.500000</td>\n",
       "      <td>183.000000</td>\n",
       "      <td>76.000000</td>\n",
       "      <td>73.000000</td>\n",
       "      <td>80.500000</td>\n",
       "      <td>4.300000e+06</td>\n",
       "      <td>26500.000000</td>\n",
       "    </tr>\n",
       "    <tr>\n",
       "      <th>75%</th>\n",
       "      <td>26.000000</td>\n",
       "      <td>186.250000</td>\n",
       "      <td>82.250000</td>\n",
       "      <td>81.000000</td>\n",
       "      <td>83.250000</td>\n",
       "      <td>1.775000e+07</td>\n",
       "      <td>65500.000000</td>\n",
       "    </tr>\n",
       "    <tr>\n",
       "      <th>max</th>\n",
       "      <td>35.000000</td>\n",
       "      <td>196.000000</td>\n",
       "      <td>97.000000</td>\n",
       "      <td>88.000000</td>\n",
       "      <td>92.000000</td>\n",
       "      <td>5.600000e+07</td>\n",
       "      <td>170000.000000</td>\n",
       "    </tr>\n",
       "  </tbody>\n",
       "</table>\n",
       "</div>"
      ],
      "text/plain": [
       "             age   height_cm  weight_kg    overall  potential     value_eur  \\\n",
       "count  84.000000   84.000000  84.000000  84.000000  84.000000  8.400000e+01   \n",
       "mean   23.202381  182.523810  77.178571  70.976190  78.940476  1.078518e+07   \n",
       "std     4.556948    6.155566   7.147602  10.371388   6.715117  1.348020e+07   \n",
       "min    17.000000  169.000000  65.000000  52.000000  62.000000  1.000000e+05   \n",
       "25%    19.000000  178.000000  72.000000  60.750000  74.000000  4.250000e+05   \n",
       "50%    22.500000  183.000000  76.000000  73.000000  80.500000  4.300000e+06   \n",
       "75%    26.000000  186.250000  82.250000  81.000000  83.250000  1.775000e+07   \n",
       "max    35.000000  196.000000  97.000000  88.000000  92.000000  5.600000e+07   \n",
       "\n",
       "            wage_eur  \n",
       "count      84.000000  \n",
       "mean    36702.380952  \n",
       "std     38604.818902  \n",
       "min      1000.000000  \n",
       "25%      1000.000000  \n",
       "50%     26500.000000  \n",
       "75%     65500.000000  \n",
       "max    170000.000000  "
      ]
     },
     "execution_count": 62,
     "metadata": {},
     "output_type": "execute_result"
    }
   ],
   "source": [
    "data.describe()"
   ]
  },
  {
   "cell_type": "markdown",
   "metadata": {},
   "source": [
    "`age`, `height_cm` und `weight_kg` sind Beispiele für numerische Attribute, `nationality`, `club` und `preferred_foot` sind kategorische Attribute."
   ]
  },
  {
   "cell_type": "markdown",
   "metadata": {},
   "source": [
    "## Visualisierung\n",
    "Um einen besseren Eindruck über die Attribute zu erhalten, ist es ratsam, die die Daten zu visualisieren.\n",
    "Eine umfangreiche und weit verbreitete Python Bibliothek dafür ist `matplotlib`.\n",
    "\n",
    "### 1. Säulendiagramme (Bar Charts)\n",
    "Säulendiagramme sind eine einfache Möglichkeit, um die Häufigkeit bestimmter Werte in **kategorischen Merkmalen** darzustellen\n",
    "\n",
    "Im folgenden Diagramm wird gezeigt, wie häufig bestimmte Clubs im Datensatz genannt werden:"
   ]
  },
  {
   "cell_type": "code",
   "execution_count": 63,
   "metadata": {
    "scrolled": false
   },
   "outputs": [
    {
     "data": {
      "text/plain": [
       "<matplotlib.axes._subplots.AxesSubplot at 0x1a7de374088>"
      ]
     },
     "execution_count": 63,
     "metadata": {},
     "output_type": "execute_result"
    },
    {
     "data": {
      "image/png": "[encoded data removed]",
      "text/plain": [
       "<Figure size 432x288 with 1 Axes>"
      ]
     },
     "metadata": {
      "needs_background": "light"
     },
     "output_type": "display_data"
    }
   ],
   "source": [
    "data['club'].value_counts().plot.bar()"
   ]
  },
  {
   "cell_type": "markdown",
   "metadata": {},
   "source": [
    "Bei einer Variante der Säulendiagramme sind die \"Säulen\" horizontal aufgetragen. Man spricht in dem Fall von **Balkendiagrammen** (*column charts*). Diese haben den Vorteil, dass die zu vergleichenden Werte besser lesbar sind.\n",
    "\n",
    "**Aufgabe** Verwenden Sie die Methode `barh` der `matplotlib` Bibliothek um ein weiteres kategorisches Merkmal darzustellen."
   ]
  },
  {
   "cell_type": "code",
   "execution_count": 64,
   "metadata": {
    "nbgrader": {
     "grade": true,
     "grade_id": "cell-6193ce752abfa41f",
     "locked": false,
     "points": 1,
     "schema_version": 3,
     "solution": true,
     "task": false
    },
    "scrolled": true
   },
   "outputs": [
    {
     "data": {
      "text/plain": [
       "<matplotlib.axes._subplots.AxesSubplot at 0x1a7de15acc8>"
      ]
     },
     "execution_count": 64,
     "metadata": {},
     "output_type": "execute_result"
    },
    {
     "data": {
      "image/png": "[encoded data removed]",
      "text/plain": [
       "<Figure size 432x288 with 1 Axes>"
      ]
     },
     "metadata": {
      "needs_background": "light"
     },
     "output_type": "display_data"
    }
   ],
   "source": [
    "data['preferred_foot'].value_counts().plot.barh()"
   ]
  },
  {
   "cell_type": "code",
   "execution_count": 69,
   "metadata": {},
   "outputs": [
    {
     "name": "stdout",
     "output_type": "stream",
     "text": [
      "Help on function barh in module matplotlib.pyplot:\n",
      "\n",
      "barh(y, width, height=0.8, left=None, *, align='center', **kwargs)\n",
      "    Make a horizontal bar plot.\n",
      "    \n",
      "    The bars are positioned at *y* with the given *align*\\ment. Their\n",
      "    dimensions are given by *width* and *height*. The horizontal baseline\n",
      "    is *left* (default 0).\n",
      "    \n",
      "    Each of *y*, *width*, *height*, and *left* may either be a scalar\n",
      "    applying to all bars, or it may be a sequence of length N providing a\n",
      "    separate value for each bar.\n",
      "    \n",
      "    Parameters\n",
      "    ----------\n",
      "    y : scalar or array-like\n",
      "        The y coordinates of the bars. See also *align* for the\n",
      "        alignment of the bars to the coordinates.\n",
      "    \n",
      "    width : scalar or array-like\n",
      "        The width(s) of the bars.\n",
      "    \n",
      "    height : sequence of scalars, optional, default: 0.8\n",
      "        The heights of the bars.\n",
      "    \n",
      "    left : sequence of scalars\n",
      "        The x coordinates of the left sides of the bars (default: 0).\n",
      "    \n",
      "    align : {'center', 'edge'}, optional, default: 'center'\n",
      "        Alignment of the base to the *y* coordinates*:\n",
      "    \n",
      "        - 'center': Center the bars on the *y* positions.\n",
      "        - 'edge': Align the bottom edges of the bars with the *y*\n",
      "          positions.\n",
      "    \n",
      "        To align the bars on the top edge pass a negative *height* and\n",
      "        ``align='edge'``.\n",
      "    \n",
      "    Returns\n",
      "    -------\n",
      "    container : `.BarContainer`\n",
      "        Container with all the bars and optionally errorbars.\n",
      "    \n",
      "    Other Parameters\n",
      "    ----------------\n",
      "    color : scalar or array-like, optional\n",
      "        The colors of the bar faces.\n",
      "    \n",
      "    edgecolor : scalar or array-like, optional\n",
      "        The colors of the bar edges.\n",
      "    \n",
      "    linewidth : scalar or array-like, optional\n",
      "        Width of the bar edge(s). If 0, don't draw edges.\n",
      "    \n",
      "    tick_label : string or array-like, optional\n",
      "        The tick labels of the bars.\n",
      "        Default: None (Use default numeric labels.)\n",
      "    \n",
      "    xerr, yerr : scalar or array-like of shape(N,) or shape(2,N), optional\n",
      "        If not ``None``, add horizontal / vertical errorbars to the\n",
      "        bar tips. The values are +/- sizes relative to the data:\n",
      "    \n",
      "        - scalar: symmetric +/- values for all bars\n",
      "        - shape(N,): symmetric +/- values for each bar\n",
      "        - shape(2,N): Separate - and + values for each bar. First row\n",
      "            contains the lower errors, the second row contains the\n",
      "            upper errors.\n",
      "        - *None*: No errorbar. (default)\n",
      "    \n",
      "        See :doc:`/gallery/statistics/errorbar_features`\n",
      "        for an example on the usage of ``xerr`` and ``yerr``.\n",
      "    \n",
      "    ecolor : scalar or array-like, optional, default: 'black'\n",
      "        The line color of the errorbars.\n",
      "    \n",
      "    capsize : scalar, optional\n",
      "       The length of the error bar caps in points.\n",
      "       Default: None, which will take the value from\n",
      "       :rc:`errorbar.capsize`.\n",
      "    \n",
      "    error_kw : dict, optional\n",
      "        Dictionary of kwargs to be passed to the `~.Axes.errorbar`\n",
      "        method. Values of *ecolor* or *capsize* defined here take\n",
      "        precedence over the independent kwargs.\n",
      "    \n",
      "    log : bool, optional, default: False\n",
      "        If ``True``, set the x-axis to be log scale.\n",
      "    \n",
      "    See also\n",
      "    --------\n",
      "    bar: Plot a vertical bar plot.\n",
      "    \n",
      "    Notes\n",
      "    -----\n",
      "    The optional arguments *color*, *edgecolor*, *linewidth*,\n",
      "    *xerr*, and *yerr* can be either scalars or sequences of\n",
      "    length equal to the number of bars.  This enables you to use\n",
      "    bar as the basis for stacked bar charts, or candlestick plots.\n",
      "    Detail: *xerr* and *yerr* are passed directly to\n",
      "    :meth:`errorbar`, so they can also have shape 2xN for\n",
      "    independent specification of lower and upper errors.\n",
      "    \n",
      "    Other optional kwargs:\n",
      "    \n",
      "      agg_filter: a filter function, which takes a (m, n, 3) float array and a dpi value, and returns a (m, n, 3) array\n",
      "      alpha: float or None\n",
      "      animated: bool\n",
      "      antialiased or aa: unknown\n",
      "      capstyle: {'butt', 'round', 'projecting'}\n",
      "      clip_box: `.Bbox`\n",
      "      clip_on: bool\n",
      "      clip_path: [(`~matplotlib.path.Path`, `.Transform`) | `.Patch` | None]\n",
      "      color: color\n",
      "      contains: callable\n",
      "      edgecolor or ec: color or None or 'auto'\n",
      "      facecolor or fc: color or None\n",
      "      figure: `.Figure`\n",
      "      fill: bool\n",
      "      gid: str\n",
      "      hatch: {'/', '\\\\', '|', '-', '+', 'x', 'o', 'O', '.', '*'}\n",
      "      in_layout: bool\n",
      "      joinstyle: {'miter', 'round', 'bevel'}\n",
      "      label: object\n",
      "      linestyle or ls: {'-', '--', '-.', ':', '', (offset, on-off-seq), ...}\n",
      "      linewidth or lw: float or None\n",
      "      path_effects: `.AbstractPathEffect`\n",
      "      picker: None or bool or float or callable\n",
      "      rasterized: bool or None\n",
      "      sketch_params: (scale: float, length: float, randomness: float)\n",
      "      snap: bool or None\n",
      "      transform: `.Transform`\n",
      "      url: str\n",
      "      visible: bool\n",
      "      zorder: float\n",
      "\n"
     ]
    }
   ],
   "source": [
    "help(plt.barh)"
   ]
  },
  {
   "cell_type": "markdown",
   "metadata": {},
   "source": [
    "### 2. Histogramm\n",
    "\n",
    "Mit einem Histogramm Häufigkeitsverteilung von werten eines **numerischen Merkmals**  grafisch dargestellt werden.\n",
    "\n",
    "Der Wertebereich des Attributs wird dazu in Intervalle (mit normalerweise gleicher Größe) eingeteilt.\n",
    "Die Anzahl der Werte, die in einen Bereich hineinfallen, bestimmt dann die Größe der Säulen in einem Säulendiagramm."
   ]
  },
  {
   "cell_type": "code",
   "execution_count": 70,
   "metadata": {
    "scrolled": true
   },
   "outputs": [
    {
     "data": {
      "text/plain": [
       "<matplotlib.axes._subplots.AxesSubplot at 0x1a7de44e108>"
      ]
     },
     "execution_count": 70,
     "metadata": {},
     "output_type": "execute_result"
    },
    {
     "data": {
      "image/png": "[encoded data removed]",
      "text/plain": [
       "<Figure size 432x288 with 1 Axes>"
      ]
     },
     "metadata": {
      "needs_background": "light"
     },
     "output_type": "display_data"
    }
   ],
   "source": [
    "data['height_cm'].plot.hist()"
   ]
  },
  {
   "cell_type": "markdown",
   "metadata": {},
   "source": [
    "Das obige Histogramm zeigt eine Werteverteilung, die in etw die Form einer Glockenkurve hat. Man kann also vermuten, das die Größe der Spieler eine normalverteilte Variable ist.\n",
    "\n",
    "**Aufgabe** Plotten Sie die Attribute `potential` und `overall` in ein Histogramm."
   ]
  },
  {
   "cell_type": "code",
   "execution_count": 74,
   "metadata": {
    "nbgrader": {
     "grade": true,
     "grade_id": "cell-b995f64b7337df78",
     "locked": false,
     "points": 1,
     "schema_version": 3,
     "solution": true,
     "task": false
    }
   },
   "outputs": [
    {
     "data": {
      "text/plain": [
       "<matplotlib.axes._subplots.AxesSubplot at 0x1a7df6823c8>"
      ]
     },
     "execution_count": 74,
     "metadata": {},
     "output_type": "execute_result"
    },
    {
     "data": {
      "image/png": "[encoded data removed]",
      "text/plain": [
       "<Figure size 432x288 with 1 Axes>"
      ]
     },
     "metadata": {
      "needs_background": "light"
     },
     "output_type": "display_data"
    }
   ],
   "source": [
    "data[['potential','overall']].plot.hist()"
   ]
  },
  {
   "cell_type": "markdown",
   "metadata": {},
   "source": [
    "### 3. Streudiagramm (scatter plot)\n",
    "\n",
    "Ein Streudiagramm zeigt den Zusammenhang von Wertepaaren mehrerer Attribute.\n",
    "Der einfachste Fall ist ein zweidimensionales Diagramm in dem die Abhängigkeiten zweier Attribute dargestellt sind.\n",
    "Jeder Punkt entspricht einem Datenpunkt, wobei die *x* und *y* Koordinaten den Werten der beiden Attribute für diesen Datenpunkt entspricht.\n",
    "\n",
    "Im folgenden Diagramm vergleichen wir die Größe und das Gewicht der Spieler.\n",
    "Man sieht im Diagramm bereits eine Art *Muster*: Je größer ein Spieler ist, desto schwerer ist er **im Allgemeinen** auch.\n",
    "Wichtig ist hier: Das ist kein *Gesetz* oder eine *Regel* die immer gilt. Es gibt auch Spieler, die größer und gleichzeitig leichter als andere Spieler sind. Solche Fälle sind aber eher die Ausnahme, bzw. es ist weniger wahrscheinlich."
   ]
  },
  {
   "cell_type": "code",
   "execution_count": 75,
   "metadata": {
    "scrolled": false
   },
   "outputs": [
    {
     "data": {
      "text/plain": [
       "<matplotlib.axes._subplots.AxesSubplot at 0x1a7df6fe688>"
      ]
     },
     "execution_count": 75,
     "metadata": {},
     "output_type": "execute_result"
    },
    {
     "data": {
      "image/png": "[encoded data removed]",
      "text/plain": [
       "<Figure size 432x288 with 1 Axes>"
      ]
     },
     "metadata": {
      "needs_background": "light"
     },
     "output_type": "display_data"
    }
   ],
   "source": [
    "data.plot.scatter('height_cm', 'weight_kg')"
   ]
  },
  {
   "cell_type": "markdown",
   "metadata": {},
   "source": [
    "Wenn mehr als 2 Attribute verglichen werden sollen, wird die Darstellung komplizierter.\n",
    "Eine Möglichkeit ist, von zwei- in den dreidimensionalen Raum zu wechseln.\n",
    "Eine andere Möglichkeit ist, das Aussehen der einzelnen Punkte (z.B. die Farbe) anhand weiterer Attribute zu variieren.\n",
    "\n",
    "\n",
    "**Aufgabe:** Verwenden Sie den Parameter `c` der `matplotlib`-Funktion `scatter`, um neben `height_cm` und `weight_kg` ein weiteres Attribut (z.B. `overall`) darzustellen.\n"
   ]
  },
  {
   "cell_type": "code",
   "execution_count": 76,
   "metadata": {
    "nbgrader": {
     "grade": true,
     "grade_id": "cell-ca33f9a2aa87388a",
     "locked": false,
     "points": 1,
     "schema_version": 3,
     "solution": true,
     "task": false
    },
    "scrolled": true
   },
   "outputs": [
    {
     "data": {
      "text/plain": [
       "<matplotlib.axes._subplots.AxesSubplot at 0x1a7df78a648>"
      ]
     },
     "execution_count": 76,
     "metadata": {},
     "output_type": "execute_result"
    },
    {
     "data": {
      "image/png": "[encoded data removed]",
      "text/plain": [
       "<Figure size 432x288 with 2 Axes>"
      ]
     },
     "metadata": {
      "needs_background": "light"
     },
     "output_type": "display_data"
    }
   ],
   "source": [
    "data.plot.scatter('height_cm', 'weight_kg', c='overall')"
   ]
  },
  {
   "cell_type": "markdown",
   "metadata": {},
   "source": [
    "### 4. Box Plot\n",
    "\n",
    "Boxplots sind eine Methode, mit der sich die charakteristischen Eigenschaften eines numerischen Attributs auf kompakte und dennoch übersichtliche Weise darstellen lassen.\n",
    "\n",
    "Die Box entspricht dem Bereich, in dem die mittleren 50% aller Werte liegen, der Strich in der Box gibt die Position des Medians an.\n",
    "Die *Whisker* (auch *Antennen* genannt) geben den Bereich an, in dem die allermeisten Werte liegen.\n",
    "Punkte außerhalb dieses Bereichs sind als *Ausreißer* zu werten.\n",
    "\n",
    "![Box plot](https://upload.wikimedia.org/wikipedia/commons/b/b1/Elements_of_a_boxplot.svg)"
   ]
  },
  {
   "cell_type": "code",
   "execution_count": 77,
   "metadata": {},
   "outputs": [
    {
     "data": {
      "text/plain": [
       "<matplotlib.axes._subplots.AxesSubplot at 0x1a7df83c108>"
      ]
     },
     "execution_count": 77,
     "metadata": {},
     "output_type": "execute_result"
    },
    {
     "data": {
      "image/png": "[encoded data removed]",
      "text/plain": [
       "<Figure size 432x288 with 1 Axes>"
      ]
     },
     "metadata": {
      "needs_background": "light"
     },
     "output_type": "display_data"
    }
   ],
   "source": [
    "data[['potential','overall']].plot.box()"
   ]
  },
  {
   "cell_type": "markdown",
   "metadata": {},
   "source": [
    "## Ausreißererkennung\n",
    "\n",
    "Ein *Ausreißer* ist ein Wert, der weit entfernt von allen (oder den allermeisten) anderen Werten des gleich Datensatzes liegt.\n",
    "\n",
    "Eine Möglichkeit, solche Ausreißer zu erkennen, ist die Daten zu visualisieren, z.B. mithilfe eines Boxplots.\n",
    "Im folgenden Beispiel schauen wir uns das Merkmal `value_eur`, also den Marktwert der Spieler an.\n",
    "Wie die Angabe an der Die y-Achse zeigt, sind die Werte in $1e7$, also Millionen dargestellt."
   ]
  },
  {
   "cell_type": "code",
   "execution_count": 78,
   "metadata": {},
   "outputs": [
    {
     "data": {
      "text/plain": [
       "<matplotlib.axes._subplots.AxesSubplot at 0x1a7df894208>"
      ]
     },
     "execution_count": 78,
     "metadata": {},
     "output_type": "execute_result"
    },
    {
     "data": {
      "image/png": "[encoded data removed]",
      "text/plain": [
       "<Figure size 432x288 with 1 Axes>"
      ]
     },
     "metadata": {
      "needs_background": "light"
     },
     "output_type": "display_data"
    }
   ],
   "source": [
    "data['value_eur'].plot.box()"
   ]
  },
  {
   "cell_type": "markdown",
   "metadata": {},
   "source": [
    "Datenpunkte, die Außreißer in mehreren Kategorien darstellen, identifiziert man auch über Streudiagramme.\n",
    "Wie wir in folgendem Beispiel sehen, besitzt ein Spieler ein sehr hohen Wert in den Kategorien *Spielerwert* (`value_eur`) und *Gehalt* (`wage_eur`)."
   ]
  },
  {
   "cell_type": "code",
   "execution_count": 79,
   "metadata": {},
   "outputs": [
    {
     "data": {
      "text/plain": [
       "<matplotlib.collections.PathCollection at 0x1a7df8ff988>"
      ]
     },
     "execution_count": 79,
     "metadata": {},
     "output_type": "execute_result"
    },
    {
     "data": {
      "image/png": "[encoded data removed]",
      "text/plain": [
       "<Figure size 432x288 with 1 Axes>"
      ]
     },
     "metadata": {
      "needs_background": "light"
     },
     "output_type": "display_data"
    }
   ],
   "source": [
    "data.plot.scatter('value_eur', 'wage_eur')\n",
    "plt.scatter(data['value_eur'][0],data['wage_eur'][0], s=150, edgecolors='k', c='None')"
   ]
  },
  {
   "cell_type": "markdown",
   "metadata": {},
   "source": [
    "Ausreißer können aber auch berechnet werden.\n",
    "Im folgenden Beispiel berechnen wir für alle Datenpunkte und Merkmale, welche Werte mehr als drei Standardabweichungen größer als der Mittelwert sind."
   ]
  },
  {
   "cell_type": "code",
   "execution_count": 80,
   "metadata": {},
   "outputs": [
    {
     "data": {
      "text/html": [
       "<div>\n",
       "<style scoped>\n",
       "    .dataframe tbody tr th:only-of-type {\n",
       "        vertical-align: middle;\n",
       "    }\n",
       "\n",
       "    .dataframe tbody tr th {\n",
       "        vertical-align: top;\n",
       "    }\n",
       "\n",
       "    .dataframe thead th {\n",
       "        text-align: right;\n",
       "    }\n",
       "</style>\n",
       "<table border=\"1\" class=\"dataframe\">\n",
       "  <thead>\n",
       "    <tr style=\"text-align: right;\">\n",
       "      <th></th>\n",
       "      <th>age</th>\n",
       "      <th>club</th>\n",
       "      <th>height_cm</th>\n",
       "      <th>nationality</th>\n",
       "      <th>overall</th>\n",
       "      <th>player_positions</th>\n",
       "      <th>potential</th>\n",
       "      <th>preferred_foot</th>\n",
       "      <th>short_name</th>\n",
       "      <th>value_eur</th>\n",
       "      <th>wage_eur</th>\n",
       "      <th>weight_kg</th>\n",
       "    </tr>\n",
       "  </thead>\n",
       "  <tbody>\n",
       "    <tr>\n",
       "      <th>0</th>\n",
       "      <td>False</td>\n",
       "      <td>False</td>\n",
       "      <td>False</td>\n",
       "      <td>False</td>\n",
       "      <td>False</td>\n",
       "      <td>False</td>\n",
       "      <td>False</td>\n",
       "      <td>False</td>\n",
       "      <td>False</td>\n",
       "      <td>True</td>\n",
       "      <td>True</td>\n",
       "      <td>False</td>\n",
       "    </tr>\n",
       "    <tr>\n",
       "      <th>1</th>\n",
       "      <td>False</td>\n",
       "      <td>False</td>\n",
       "      <td>False</td>\n",
       "      <td>False</td>\n",
       "      <td>False</td>\n",
       "      <td>False</td>\n",
       "      <td>False</td>\n",
       "      <td>False</td>\n",
       "      <td>False</td>\n",
       "      <td>False</td>\n",
       "      <td>False</td>\n",
       "      <td>False</td>\n",
       "    </tr>\n",
       "    <tr>\n",
       "      <th>2</th>\n",
       "      <td>False</td>\n",
       "      <td>False</td>\n",
       "      <td>False</td>\n",
       "      <td>False</td>\n",
       "      <td>False</td>\n",
       "      <td>False</td>\n",
       "      <td>False</td>\n",
       "      <td>False</td>\n",
       "      <td>False</td>\n",
       "      <td>False</td>\n",
       "      <td>False</td>\n",
       "      <td>False</td>\n",
       "    </tr>\n",
       "    <tr>\n",
       "      <th>3</th>\n",
       "      <td>False</td>\n",
       "      <td>False</td>\n",
       "      <td>False</td>\n",
       "      <td>False</td>\n",
       "      <td>False</td>\n",
       "      <td>False</td>\n",
       "      <td>False</td>\n",
       "      <td>False</td>\n",
       "      <td>False</td>\n",
       "      <td>False</td>\n",
       "      <td>False</td>\n",
       "      <td>False</td>\n",
       "    </tr>\n",
       "    <tr>\n",
       "      <th>4</th>\n",
       "      <td>False</td>\n",
       "      <td>False</td>\n",
       "      <td>False</td>\n",
       "      <td>False</td>\n",
       "      <td>False</td>\n",
       "      <td>False</td>\n",
       "      <td>False</td>\n",
       "      <td>False</td>\n",
       "      <td>False</td>\n",
       "      <td>False</td>\n",
       "      <td>False</td>\n",
       "      <td>False</td>\n",
       "    </tr>\n",
       "  </tbody>\n",
       "</table>\n",
       "</div>"
      ],
      "text/plain": [
       "     age   club  height_cm  nationality  overall  player_positions  potential  \\\n",
       "0  False  False      False        False    False             False      False   \n",
       "1  False  False      False        False    False             False      False   \n",
       "2  False  False      False        False    False             False      False   \n",
       "3  False  False      False        False    False             False      False   \n",
       "4  False  False      False        False    False             False      False   \n",
       "\n",
       "   preferred_foot  short_name  value_eur  wage_eur  weight_kg  \n",
       "0           False       False       True      True      False  \n",
       "1           False       False      False     False      False  \n",
       "2           False       False      False     False      False  \n",
       "3           False       False      False     False      False  \n",
       "4           False       False      False     False      False  "
      ]
     },
     "execution_count": 80,
     "metadata": {},
     "output_type": "execute_result"
    }
   ],
   "source": [
    "s = 3*data.std() + data.mean()\n",
    "(data.gt(s, axis=1)).head()"
   ]
  },
  {
   "cell_type": "markdown",
   "metadata": {},
   "source": [
    "Wenn wie die Ausreißer erkannt haben, können wir sie aus dem Datensatz entfernen."
   ]
  },
  {
   "cell_type": "code",
   "execution_count": 81,
   "metadata": {},
   "outputs": [],
   "source": [
    "data_clean = data[(data.gt(s, axis=1)).any(axis=1)==False].copy()"
   ]
  },
  {
   "cell_type": "code",
   "execution_count": 82,
   "metadata": {},
   "outputs": [
    {
     "name": "stdout",
     "output_type": "stream",
     "text": [
      "Der ursprüngliche Datensatz hat 84 Zeilen\n",
      "Der bereinigte Datensatz hat noch 83 Zeilen\n"
     ]
    }
   ],
   "source": [
    "print(f\"Der ursprüngliche Datensatz hat {data.shape[0]} Zeilen\")\n",
    "print(f\"Der bereinigte Datensatz hat noch {data_clean.shape[0]} Zeilen\")"
   ]
  },
  {
   "cell_type": "markdown",
   "metadata": {},
   "source": [
    "# Datenvorverarbeitung"
   ]
  },
  {
   "cell_type": "markdown",
   "metadata": {},
   "source": [
    "Bevor Machine Learning Verfahren eingesetzt werden können, müssen die Datensätze in der Regel sorgfältig vorberarbeitet werden.\n",
    "Je nach verwendetem Verfahren kann es nötig sein, bestimmte Vorverarbeitungsschritte durchzuführen.\n",
    "Die im Folgenden beschrieben Schritte sind für fast alle Anwendungen notwendig:"
   ]
  },
  {
   "cell_type": "markdown",
   "metadata": {},
   "source": [
    "## Data selection\n",
    "Datensätze sind häufig groß, in dem Sinne, dass viele Daten für verschiedene Merkmale gesammelt wurden.\n",
    "Viele Daten zu haben ist prinzipiell auch vorteilhaft, allerdings sollten für Analysen möglichst nur die *relevanten* Daten herangezogen werden.\n",
    "\n",
    "In manchen Fällen können Sie die weniger relvanten Merkale direkt identifizieren.\n",
    "In unserem Datensatz nehmen wir einmal an, dass der Spielername und die Positionen eher unwichtig sind. Daher nehmen dir die kompletten Merkmale, also die Spalten in unserem Datensatz, heraus:"
   ]
  },
  {
   "cell_type": "code",
   "execution_count": 37,
   "metadata": {},
   "outputs": [],
   "source": [
    "data_clean.drop(['short_name','player_positions'], axis=1, inplace=True)"
   ]
  },
  {
   "cell_type": "markdown",
   "metadata": {},
   "source": [
    "Welche Merkmale relevant sind und welche nicht ist allerdings nicht immer einfach zu beantworten.\n",
    "Daher ist es ratsam, mathematische Verfahren zu verwenden, mit denen weniger relevante oder sogar überflüssige Merkmale identifiziert werden können.\n",
    "Mahr dazu aber später..."
   ]
  },
  {
   "cell_type": "markdown",
   "metadata": {},
   "source": [
    "## Normalisierung\n",
    "Die Wertebereiche der verschiedenen Merkmale können untereinander sehr unterschiedlich sein.\n",
    "Das Alter der Spieler wird kaum über $50$ gehen, die Gehälter hingegen fangen erst deutlich über $1000$ an.\n",
    "Wenn unser Machine Learning Modell darauf angewiesen ist, dass alle Merkmale den selben *Hebel* für das Modell haben, ist es sinnvoll, wenn die Werte aller Merkmale *normalisiert* werden.\n",
    "\n",
    "\n",
    "### 1. Standardisierung\n",
    "Ein der am häufigsten angewendeten Methoden zur Normalisieurung ist die *Standardisierung*.\n",
    "Hierbei wird von den Werten der Datenpunkte des Attributs $X$ zunächst der Mittelwert $\\bar X$ abgezogen, sodass die transformierten Daten immer den Mittelwert Null besitzen. Anschließend teilt man den Wert durch die Varianz $\\sigma^2_X$, sodass das transformierte Merkmal $\\hat X$ die Varianz 1 besitzt:\n",
    "$$\\hat x\\mapsto \\frac{x - \\bar X}{\\sigma^2_X}$$\n",
    "\n",
    "Man kann die Standardisierung nach der oben angeeben Formel in Python *per Hand* ausführen, oder bestehende Funktionen verwenden, z.B. die Funktion `scale`aus dem `preprocessing`-Modul der umfangreichen Python-Bibliothek `scikit-klearn` (kurz: `sklearn`)."
   ]
  },
  {
   "cell_type": "code",
   "execution_count": 38,
   "metadata": {},
   "outputs": [],
   "source": [
    "# Selektiere die Spalten mit numerischen Datentypen (int64) in unserem Fall\n",
    "ncul = data_clean.select_dtypes('int64').columns\n",
    "\n",
    "# Wende die Formel zur Standardisierung an\n",
    "data_strd = (data_clean[ncul] - data_clean.mean())/data_clean.std()"
   ]
  },
  {
   "cell_type": "code",
   "execution_count": 39,
   "metadata": {},
   "outputs": [],
   "source": [
    "# Standardisierung mit sklearn\n",
    "data_skstrd = scale(data_clean[ncul])"
   ]
  },
  {
   "cell_type": "markdown",
   "metadata": {},
   "source": [
    "Wenn wir die die Streuungswerte der neuen Datensätze vergleichen sehen wir, dass die Mittelwerte sehr nahe bei 0 und die Standardabweichung nahe bei 1 liegt.\n",
    "Außerdem sind die selbst berechneten Daten sehr nahe an den mit `sklearn` berechneten Daten.\n",
    "Unterschiede kommen aufgrund der unterschiedlichen numerischen Berechnungen zustande. "
   ]
  },
  {
   "cell_type": "code",
   "execution_count": 40,
   "metadata": {
    "scrolled": false
   },
   "outputs": [
    {
     "data": {
      "text/html": [
       "<div>\n",
       "<style scoped>\n",
       "    .dataframe tbody tr th:only-of-type {\n",
       "        vertical-align: middle;\n",
       "    }\n",
       "\n",
       "    .dataframe tbody tr th {\n",
       "        vertical-align: top;\n",
       "    }\n",
       "\n",
       "    .dataframe thead th {\n",
       "        text-align: right;\n",
       "    }\n",
       "</style>\n",
       "<table border=\"1\" class=\"dataframe\">\n",
       "  <thead>\n",
       "    <tr style=\"text-align: right;\">\n",
       "      <th></th>\n",
       "      <th>age</th>\n",
       "      <th>height_cm</th>\n",
       "      <th>weight_kg</th>\n",
       "      <th>overall</th>\n",
       "      <th>potential</th>\n",
       "      <th>value_eur</th>\n",
       "      <th>wage_eur</th>\n",
       "    </tr>\n",
       "  </thead>\n",
       "  <tbody>\n",
       "    <tr>\n",
       "      <th>mean</th>\n",
       "      <td>-3.638321e-16</td>\n",
       "      <td>6.099539e-16</td>\n",
       "      <td>-1.016590e-16</td>\n",
       "      <td>4.093111e-16</td>\n",
       "      <td>9.015546e-16</td>\n",
       "      <td>2.006427e-17</td>\n",
       "      <td>-7.758185e-17</td>\n",
       "    </tr>\n",
       "    <tr>\n",
       "      <th>std</th>\n",
       "      <td>1.000000e+00</td>\n",
       "      <td>1.000000e+00</td>\n",
       "      <td>1.000000e+00</td>\n",
       "      <td>1.000000e+00</td>\n",
       "      <td>1.000000e+00</td>\n",
       "      <td>1.000000e+00</td>\n",
       "      <td>1.000000e+00</td>\n",
       "    </tr>\n",
       "  </tbody>\n",
       "</table>\n",
       "</div>"
      ],
      "text/plain": [
       "               age     height_cm     weight_kg       overall     potential  \\\n",
       "mean -3.638321e-16  6.099539e-16 -1.016590e-16  4.093111e-16  9.015546e-16   \n",
       "std   1.000000e+00  1.000000e+00  1.000000e+00  1.000000e+00  1.000000e+00   \n",
       "\n",
       "         value_eur      wage_eur  \n",
       "mean  2.006427e-17 -7.758185e-17  \n",
       "std   1.000000e+00  1.000000e+00  "
      ]
     },
     "execution_count": 40,
     "metadata": {},
     "output_type": "execute_result"
    }
   ],
   "source": [
    "data_strd.describe().loc[['mean', 'std']]"
   ]
  },
  {
   "cell_type": "code",
   "execution_count": 41,
   "metadata": {},
   "outputs": [
    {
     "data": {
      "text/html": [
       "<div>\n",
       "<style scoped>\n",
       "    .dataframe tbody tr th:only-of-type {\n",
       "        vertical-align: middle;\n",
       "    }\n",
       "\n",
       "    .dataframe tbody tr th {\n",
       "        vertical-align: top;\n",
       "    }\n",
       "\n",
       "    .dataframe thead th {\n",
       "        text-align: right;\n",
       "    }\n",
       "</style>\n",
       "<table border=\"1\" class=\"dataframe\">\n",
       "  <thead>\n",
       "    <tr style=\"text-align: right;\">\n",
       "      <th></th>\n",
       "      <th>age</th>\n",
       "      <th>height_cm</th>\n",
       "      <th>weight_kg</th>\n",
       "      <th>overall</th>\n",
       "      <th>potential</th>\n",
       "      <th>value_eur</th>\n",
       "      <th>wage_eur</th>\n",
       "    </tr>\n",
       "  </thead>\n",
       "  <tbody>\n",
       "    <tr>\n",
       "      <th>mean</th>\n",
       "      <td>-3.959350e-16</td>\n",
       "      <td>5.945712e-16</td>\n",
       "      <td>-2.046556e-16</td>\n",
       "      <td>2.434465e-16</td>\n",
       "      <td>7.249890e-16</td>\n",
       "      <td>1.230609e-16</td>\n",
       "      <td>3.504559e-16</td>\n",
       "    </tr>\n",
       "    <tr>\n",
       "      <th>std</th>\n",
       "      <td>1.006079e+00</td>\n",
       "      <td>1.006079e+00</td>\n",
       "      <td>1.006079e+00</td>\n",
       "      <td>1.006079e+00</td>\n",
       "      <td>1.006079e+00</td>\n",
       "      <td>1.006079e+00</td>\n",
       "      <td>1.006079e+00</td>\n",
       "    </tr>\n",
       "  </tbody>\n",
       "</table>\n",
       "</div>"
      ],
      "text/plain": [
       "               age     height_cm     weight_kg       overall     potential  \\\n",
       "mean -3.959350e-16  5.945712e-16 -2.046556e-16  2.434465e-16  7.249890e-16   \n",
       "std   1.006079e+00  1.006079e+00  1.006079e+00  1.006079e+00  1.006079e+00   \n",
       "\n",
       "         value_eur      wage_eur  \n",
       "mean  1.230609e-16  3.504559e-16  \n",
       "std   1.006079e+00  1.006079e+00  "
      ]
     },
     "execution_count": 41,
     "metadata": {},
     "output_type": "execute_result"
    }
   ],
   "source": [
    "pd.DataFrame(data_skstrd, columns=data_strd.columns).describe().loc[['mean', 'std']]"
   ]
  },
  {
   "cell_type": "markdown",
   "metadata": {},
   "source": [
    "### 2. Min-Max Normalisierung\n",
    "Eine, weitere Methode zur Normalisierung der Datenreihen ist die *Min-Max-Skalierung*.\n",
    "Die Idee dahinter ist überaus einfach: Zunächst wird von allen Datenpunkten $x$ des Attributs $X$ das Minimum der Attributwerte $\\min_X$ abgezogen. Nach diesem Schritt beginnen alle Wertebereiche der Attribute bei 0.\n",
    "Anschließend werden alle Werte durch die Größe des Wertebereichs $\\max_X-\\min_X$  geteilt. Danach sind alle Werte auf den Wertebereich $[0,1]$ skaliert:\n",
    "$$\\hat x\\mapsto \\frac{x-\\min_X}{\\max_X-\\min_X}$$\n",
    "\n",
    "In `sklearn` heißt die Klasse zur Min-Max Normalisierung `MinMaxScaler`"
   ]
  },
  {
   "cell_type": "code",
   "execution_count": 54,
   "metadata": {},
   "outputs": [],
   "source": [
    "# Min-Max-Skalierung per Hand\n",
    "data_scaled = (data_clean[ncul] - data_clean[ncul].min())/(data_clean[ncul].max()-data_clean[ncul].min())"
   ]
  },
  {
   "cell_type": "code",
   "execution_count": 55,
   "metadata": {},
   "outputs": [],
   "source": [
    "#  Min-Max-Skalierung mit sklearn\n",
    "data_skscaled = MinMaxScaler().fit_transform(data_clean[ncul])"
   ]
  },
  {
   "cell_type": "markdown",
   "metadata": {},
   "source": [
    "Wir können nun wieder beide Varianten vergleichen:"
   ]
  },
  {
   "cell_type": "code",
   "execution_count": 58,
   "metadata": {},
   "outputs": [
    {
     "data": {
      "text/plain": [
       "age          1.0\n",
       "height_cm    1.0\n",
       "weight_kg    1.0\n",
       "overall      1.0\n",
       "potential    1.0\n",
       "value_eur    1.0\n",
       "wage_eur     1.0\n",
       "dtype: float64"
      ]
     },
     "execution_count": 58,
     "metadata": {},
     "output_type": "execute_result"
    }
   ],
   "source": [
    "data_skscaled.max() - data_scaled.min()"
   ]
  },
  {
   "cell_type": "code",
   "execution_count": 59,
   "metadata": {},
   "outputs": [
    {
     "data": {
      "text/plain": [
       "age          1.0\n",
       "height_cm    1.0\n",
       "weight_kg    1.0\n",
       "overall      1.0\n",
       "potential    1.0\n",
       "value_eur    1.0\n",
       "wage_eur     1.0\n",
       "dtype: float64"
      ]
     },
     "execution_count": 59,
     "metadata": {},
     "output_type": "execute_result"
    }
   ],
   "source": [
    "pd.DataFrame(data_scaled, columns=data_scaled.columns).max() - pd.DataFrame(data_scaled, columns=data_scaled.columns).min()"
   ]
  },
  {
   "cell_type": "markdown",
   "metadata": {},
   "source": [
    "**Aufgabe:** Normieren Sie nach den Prinzipien der Min-Max-Skalierung die Werte unseres Datensatzes auf den den Bereich $[-1,1]$ (statt wie oben auf den Wertebereich $[0,1]$)"
   ]
  },
  {
   "cell_type": "code",
   "execution_count": 60,
   "metadata": {
    "nbgrader": {
     "grade": false,
     "grade_id": "cell-66a12eec6d027b87",
     "locked": false,
     "schema_version": 3,
     "solution": true,
     "task": false
    },
    "scrolled": true
   },
   "outputs": [
    {
     "data": {
      "text/html": [
       "<div>\n",
       "<style scoped>\n",
       "    .dataframe tbody tr th:only-of-type {\n",
       "        vertical-align: middle;\n",
       "    }\n",
       "\n",
       "    .dataframe tbody tr th {\n",
       "        vertical-align: top;\n",
       "    }\n",
       "\n",
       "    .dataframe thead th {\n",
       "        text-align: right;\n",
       "    }\n",
       "</style>\n",
       "<table border=\"1\" class=\"dataframe\">\n",
       "  <thead>\n",
       "    <tr style=\"text-align: right;\">\n",
       "      <th></th>\n",
       "      <th>age</th>\n",
       "      <th>height_cm</th>\n",
       "      <th>weight_kg</th>\n",
       "      <th>overall</th>\n",
       "      <th>potential</th>\n",
       "      <th>value_eur</th>\n",
       "      <th>wage_eur</th>\n",
       "    </tr>\n",
       "  </thead>\n",
       "  <tbody>\n",
       "    <tr>\n",
       "      <th>1</th>\n",
       "      <td>0.444444</td>\n",
       "      <td>0.629630</td>\n",
       "      <td>0.8125</td>\n",
       "      <td>1.000000</td>\n",
       "      <td>0.666667</td>\n",
       "      <td>0.782135</td>\n",
       "      <td>1.000000</td>\n",
       "    </tr>\n",
       "    <tr>\n",
       "      <th>2</th>\n",
       "      <td>0.222222</td>\n",
       "      <td>0.333333</td>\n",
       "      <td>0.2500</td>\n",
       "      <td>0.885714</td>\n",
       "      <td>0.600000</td>\n",
       "      <td>0.389978</td>\n",
       "      <td>0.410853</td>\n",
       "    </tr>\n",
       "    <tr>\n",
       "      <th>3</th>\n",
       "      <td>0.444444</td>\n",
       "      <td>0.259259</td>\n",
       "      <td>0.0000</td>\n",
       "      <td>0.885714</td>\n",
       "      <td>0.533333</td>\n",
       "      <td>0.368192</td>\n",
       "      <td>0.689922</td>\n",
       "    </tr>\n",
       "    <tr>\n",
       "      <th>4</th>\n",
       "      <td>-0.777778</td>\n",
       "      <td>-0.185185</td>\n",
       "      <td>-0.3125</td>\n",
       "      <td>0.828571</td>\n",
       "      <td>1.000000</td>\n",
       "      <td>0.934641</td>\n",
       "      <td>-0.069767</td>\n",
       "    </tr>\n",
       "    <tr>\n",
       "      <th>5</th>\n",
       "      <td>-0.666667</td>\n",
       "      <td>0.407407</td>\n",
       "      <td>0.1250</td>\n",
       "      <td>0.828571</td>\n",
       "      <td>1.000000</td>\n",
       "      <td>1.000000</td>\n",
       "      <td>0.069767</td>\n",
       "    </tr>\n",
       "    <tr>\n",
       "      <th>...</th>\n",
       "      <td>...</td>\n",
       "      <td>...</td>\n",
       "      <td>...</td>\n",
       "      <td>...</td>\n",
       "      <td>...</td>\n",
       "      <td>...</td>\n",
       "      <td>...</td>\n",
       "    </tr>\n",
       "    <tr>\n",
       "      <th>79</th>\n",
       "      <td>-0.777778</td>\n",
       "      <td>0.037037</td>\n",
       "      <td>-0.4375</td>\n",
       "      <td>-0.771429</td>\n",
       "      <td>-0.666667</td>\n",
       "      <td>-0.998257</td>\n",
       "      <td>-1.000000</td>\n",
       "    </tr>\n",
       "    <tr>\n",
       "      <th>80</th>\n",
       "      <td>-0.777778</td>\n",
       "      <td>-0.555556</td>\n",
       "      <td>-0.8125</td>\n",
       "      <td>-0.885714</td>\n",
       "      <td>-0.533333</td>\n",
       "      <td>-0.998257</td>\n",
       "      <td>-1.000000</td>\n",
       "    </tr>\n",
       "    <tr>\n",
       "      <th>81</th>\n",
       "      <td>-0.888889</td>\n",
       "      <td>0.333333</td>\n",
       "      <td>0.0625</td>\n",
       "      <td>-0.885714</td>\n",
       "      <td>-0.600000</td>\n",
       "      <td>-0.999129</td>\n",
       "      <td>-1.000000</td>\n",
       "    </tr>\n",
       "    <tr>\n",
       "      <th>82</th>\n",
       "      <td>-0.777778</td>\n",
       "      <td>-0.703704</td>\n",
       "      <td>-0.7500</td>\n",
       "      <td>-0.942857</td>\n",
       "      <td>-0.466667</td>\n",
       "      <td>-0.998693</td>\n",
       "      <td>-1.000000</td>\n",
       "    </tr>\n",
       "    <tr>\n",
       "      <th>83</th>\n",
       "      <td>-0.888889</td>\n",
       "      <td>-0.185185</td>\n",
       "      <td>-0.6250</td>\n",
       "      <td>-1.000000</td>\n",
       "      <td>-0.600000</td>\n",
       "      <td>-1.000000</td>\n",
       "      <td>-1.000000</td>\n",
       "    </tr>\n",
       "  </tbody>\n",
       "</table>\n",
       "<p>83 rows × 7 columns</p>\n",
       "</div>"
      ],
      "text/plain": [
       "         age  height_cm  weight_kg   overall  potential  value_eur  wage_eur\n",
       "1   0.444444   0.629630     0.8125  1.000000   0.666667   0.782135  1.000000\n",
       "2   0.222222   0.333333     0.2500  0.885714   0.600000   0.389978  0.410853\n",
       "3   0.444444   0.259259     0.0000  0.885714   0.533333   0.368192  0.689922\n",
       "4  -0.777778  -0.185185    -0.3125  0.828571   1.000000   0.934641 -0.069767\n",
       "5  -0.666667   0.407407     0.1250  0.828571   1.000000   1.000000  0.069767\n",
       "..       ...        ...        ...       ...        ...        ...       ...\n",
       "79 -0.777778   0.037037    -0.4375 -0.771429  -0.666667  -0.998257 -1.000000\n",
       "80 -0.777778  -0.555556    -0.8125 -0.885714  -0.533333  -0.998257 -1.000000\n",
       "81 -0.888889   0.333333     0.0625 -0.885714  -0.600000  -0.999129 -1.000000\n",
       "82 -0.777778  -0.703704    -0.7500 -0.942857  -0.466667  -0.998693 -1.000000\n",
       "83 -0.888889  -0.185185    -0.6250 -1.000000  -0.600000  -1.000000 -1.000000\n",
       "\n",
       "[83 rows x 7 columns]"
      ]
     },
     "execution_count": 60,
     "metadata": {},
     "output_type": "execute_result"
    }
   ],
   "source": [
    "data_ex = None\n",
    "### BEGIN SOLUTION\n",
    "data_ex = 2*(data_clean[ncul] - data_clean[ncul].min())/(data_clean[ncul].max()-data_clean[ncul].min())-1\n",
    "# oder noch einfacher\n",
    "# data_ex = data_scaled*2-1\n",
    "### END SOLUTION\n",
    "data_ex"
   ]
  },
  {
   "cell_type": "code",
   "execution_count": 25,
   "metadata": {
    "nbgrader": {
     "grade": true,
     "grade_id": "cell-a9e1c1c06f3dda32",
     "locked": true,
     "points": 1,
     "schema_version": 3,
     "solution": false,
     "task": false
    }
   },
   "outputs": [],
   "source": [
    "# Test Cell\n",
    "#----------\n",
    "assert (data_ex.max() == 1).all()\n",
    "assert (data_ex.min() == -1).all()"
   ]
  },
  {
   "cell_type": "markdown",
   "metadata": {},
   "source": [
    "In `sklearn` kann man dies durch Überschreiben des Attributs `feature_range` des `MinMaxScaler`-Objekts erreichen:"
   ]
  },
  {
   "cell_type": "code",
   "execution_count": 26,
   "metadata": {},
   "outputs": [
    {
     "data": {
      "text/plain": [
       "(array([-1., -1., -1., -1., -1., -1., -1.]),\n",
       " array([1., 1., 1., 1., 1., 1., 1.]))"
      ]
     },
     "execution_count": 26,
     "metadata": {},
     "output_type": "execute_result"
    }
   ],
   "source": [
    "data_skex = MinMaxScaler(feature_range=(-1,1)).fit_transform(data_clean[ncul])\n",
    "data_skex.min(axis=0), data_skex.max(axis=0)"
   ]
  },
  {
   "cell_type": "markdown",
   "metadata": {},
   "source": [
    "Nun können wir den ursprünglichen und den normierten Datensatz zusammenfügen:"
   ]
  },
  {
   "cell_type": "code",
   "execution_count": 27,
   "metadata": {},
   "outputs": [
    {
     "data": {
      "text/html": [
       "<div>\n",
       "<style scoped>\n",
       "    .dataframe tbody tr th:only-of-type {\n",
       "        vertical-align: middle;\n",
       "    }\n",
       "\n",
       "    .dataframe tbody tr th {\n",
       "        vertical-align: top;\n",
       "    }\n",
       "\n",
       "    .dataframe thead th {\n",
       "        text-align: right;\n",
       "    }\n",
       "</style>\n",
       "<table border=\"1\" class=\"dataframe\">\n",
       "  <thead>\n",
       "    <tr style=\"text-align: right;\">\n",
       "      <th></th>\n",
       "      <th>age</th>\n",
       "      <th>height_cm</th>\n",
       "      <th>weight_kg</th>\n",
       "      <th>nationality</th>\n",
       "      <th>club</th>\n",
       "      <th>overall</th>\n",
       "      <th>potential</th>\n",
       "      <th>value_eur</th>\n",
       "      <th>wage_eur</th>\n",
       "      <th>preferred_foot</th>\n",
       "    </tr>\n",
       "  </thead>\n",
       "  <tbody>\n",
       "    <tr>\n",
       "      <th>1</th>\n",
       "      <td>0.722222</td>\n",
       "      <td>0.814815</td>\n",
       "      <td>0.90625</td>\n",
       "      <td>Germany</td>\n",
       "      <td>Borussia Dortmund</td>\n",
       "      <td>1.000000</td>\n",
       "      <td>0.833333</td>\n",
       "      <td>0.891068</td>\n",
       "      <td>1.000000</td>\n",
       "      <td>Right</td>\n",
       "    </tr>\n",
       "    <tr>\n",
       "      <th>2</th>\n",
       "      <td>0.611111</td>\n",
       "      <td>0.666667</td>\n",
       "      <td>0.62500</td>\n",
       "      <td>Switzerland</td>\n",
       "      <td>Borussia Dortmund</td>\n",
       "      <td>0.942857</td>\n",
       "      <td>0.800000</td>\n",
       "      <td>0.694989</td>\n",
       "      <td>0.705426</td>\n",
       "      <td>Right</td>\n",
       "    </tr>\n",
       "    <tr>\n",
       "      <th>3</th>\n",
       "      <td>0.722222</td>\n",
       "      <td>0.629630</td>\n",
       "      <td>0.50000</td>\n",
       "      <td>Belgium</td>\n",
       "      <td>Borussia Dortmund</td>\n",
       "      <td>0.942857</td>\n",
       "      <td>0.766667</td>\n",
       "      <td>0.684096</td>\n",
       "      <td>0.844961</td>\n",
       "      <td>Right</td>\n",
       "    </tr>\n",
       "    <tr>\n",
       "      <th>4</th>\n",
       "      <td>0.111111</td>\n",
       "      <td>0.407407</td>\n",
       "      <td>0.34375</td>\n",
       "      <td>England</td>\n",
       "      <td>Borussia Dortmund</td>\n",
       "      <td>0.914286</td>\n",
       "      <td>1.000000</td>\n",
       "      <td>0.967320</td>\n",
       "      <td>0.465116</td>\n",
       "      <td>Right</td>\n",
       "    </tr>\n",
       "    <tr>\n",
       "      <th>5</th>\n",
       "      <td>0.166667</td>\n",
       "      <td>0.703704</td>\n",
       "      <td>0.56250</td>\n",
       "      <td>Germany</td>\n",
       "      <td>Bayer 04 Leverkusen</td>\n",
       "      <td>0.914286</td>\n",
       "      <td>1.000000</td>\n",
       "      <td>1.000000</td>\n",
       "      <td>0.534884</td>\n",
       "      <td>Left</td>\n",
       "    </tr>\n",
       "  </tbody>\n",
       "</table>\n",
       "</div>"
      ],
      "text/plain": [
       "        age  height_cm  weight_kg  nationality                 club   overall  \\\n",
       "1  0.722222   0.814815    0.90625      Germany    Borussia Dortmund  1.000000   \n",
       "2  0.611111   0.666667    0.62500  Switzerland    Borussia Dortmund  0.942857   \n",
       "3  0.722222   0.629630    0.50000      Belgium    Borussia Dortmund  0.942857   \n",
       "4  0.111111   0.407407    0.34375      England    Borussia Dortmund  0.914286   \n",
       "5  0.166667   0.703704    0.56250      Germany  Bayer 04 Leverkusen  0.914286   \n",
       "\n",
       "   potential  value_eur  wage_eur preferred_foot  \n",
       "1   0.833333   0.891068  1.000000          Right  \n",
       "2   0.800000   0.694989  0.705426          Right  \n",
       "3   0.766667   0.684096  0.844961          Right  \n",
       "4   1.000000   0.967320  0.465116          Right  \n",
       "5   1.000000   1.000000  0.534884           Left  "
      ]
     },
     "execution_count": 27,
     "metadata": {},
     "output_type": "execute_result"
    }
   ],
   "source": [
    "# updating our dataframe\n",
    "data_clean[ncul] = data_scaled\n",
    "data_clean.head()"
   ]
  },
  {
   "cell_type": "markdown",
   "metadata": {},
   "source": [
    "## Encoding\n",
    "Bisher haben wir ausschließlich die numerischen Merkmale betrachtet, aber noch nicht die kategorischen,\n",
    "Die allermeisten ML Verfahren basieren darauf, dass mit den Werten der Attribute *gerechnet* wird.\n",
    "Daher ist es in aller Regel notwendig, kategorische Merkmale in numerische zu überführen, also zu *encodieren*.\n",
    "\n",
    "### 1. Ganzzahlcodierung\n",
    "Eine Möglichkeit katagorischen Daten in numerische zu überführen besteht darin, jeder *Kategorie* einen eindeutigen (Integer-) Zahlenwert zuzuordnen.\n",
    "Diese einfache Methode ist sogar sehr sinnvoll, **aber nur, wenn die kategorialen Variablen ordinal sind**.\n",
    "Ein gutes Beispiel sind die Schulnoten *sehr gut*, *gut*, *befriedigend*, usw., denen man passenderweise die Werte $1$, $2$, $3$, usw. zuordnen, und dann mit diesen Werten auch sinnvoll rechnen kann.\n",
    "Sind **nominal**, also ohne erkennbare Ordnung kann die Ganzzahlcodierung zu schlechteren oder gänzlich **unerwarteten Ergebnissen** führen.\n",
    "Das liegt vereinfacht gesagt daran, dass die Verfahren aus der numerischen Werten ahängigkeiten herleiten, die in wirklichkeit nicht exisieren.\n",
    " \n",
    "\n",
    "In `sklearn` kann man eine Ganzzahlcodierung durch die Klasse `OrdinalEncoder` realisieren."
   ]
  },
  {
   "cell_type": "code",
   "execution_count": null,
   "metadata": {},
   "outputs": [],
   "source": [
    "# Spalten mit kategorischen Attributen\n",
    "ccul = ['club','nationality','preferred_foot']\n",
    "\n",
    "data_en = data_clean.copy()\n",
    "data_en[ccul] = OrdinalEncoder().fit_transform(data_clean[ccul])\n",
    "data_en.head()"
   ]
  },
  {
   "cell_type": "markdown",
   "metadata": {},
   "source": [
    "Es ist ebenfalls möglich, direkt mit `pandas` kategorische Merkmale zu enkodieren.\n",
    "Dazu setzt man den Spaltentyp auf auf `category` und wählt als *Encoding* `cat.codes`\n"
   ]
  },
  {
   "cell_type": "code",
   "execution_count": null,
   "metadata": {},
   "outputs": [],
   "source": [
    "data_clean['club'].astype('category').cat.codes"
   ]
  },
  {
   "cell_type": "markdown",
   "metadata": {},
   "source": [
    "### 2. One-hot Codierung\n",
    "\n",
    "Wir haben ja bereits angesprochen, dass sich für die nominale Merkmale die Ganzzahlkodierung nicht eignet.\n",
    "Eine sehr verbreitete Transformation, die auch für nominale Attribute verwendet werden kann ist die *one-hot Codierung*.\n",
    "Hierbei wird ein Merkmal mit $n$ unterschiedlichen Kategorien in ein einen $n$-dimensionalen Vektor überführt.\n",
    "Jede Position dieses Vektors steht für eine bestimmte Kategorie.\n",
    "Ist für einen Datenpunkt in diesem Vektor an der Stelle $i$ eine $1$ eingetragen, so besitzt der Datenpunkt für dieses Merkmal die $i$-te Kategorie.\n",
    "\n",
    "Wie man leicht sieht, kann in diesem Vektor nur eine $1$ eingetragen sein, denn der Datenpunkt kann Maximal einer Kategorie zugeordnet sein. Alle anderen Positionen des Vektors sind $0$. Nur eine Eins, daher der Namen *one-hot*.\n",
    "\n",
    "In `sklearn` verwendet man die One-hot Codierung über die `OneHotEncoder` Klasse."
   ]
  },
  {
   "cell_type": "code",
   "execution_count": null,
   "metadata": {},
   "outputs": [],
   "source": [
    "onehot = OneHotEncoder(sparse=False).fit_transform(data_clean[ccul])\n",
    "onehot[:5]"
   ]
  },
  {
   "cell_type": "markdown",
   "metadata": {},
   "source": [
    "Auch hier können wir das gleiche mit `pandas` erreichen, und zwar mit der Funktion `pandas.get_dummies`.\n",
    "Jedes kategorische Merkmal wird darüber zu $n$ einzelnen Merkmalen expandiert, wobei $n$ die Anzahl der Werte ($=$ Kategorien) des Merkmals ist."
   ]
  },
  {
   "cell_type": "code",
   "execution_count": null,
   "metadata": {
    "scrolled": true
   },
   "outputs": [],
   "source": [
    "data_oh = pd.get_dummies(data_clean)\n",
    "data_oh.head()"
   ]
  },
  {
   "cell_type": "markdown",
   "metadata": {},
   "source": [
    "## Aufteilung der Trainings- und Testdaten\n",
    "\n",
    "Eine typische Vorgehensweise, um ein Machine Learning Modell zu bewerten, ist es, das Modell mit neuen, *neuen* Daten zu testen.\n",
    "*Neu* bedeutet hier, dass die Daten für das Trainieren des Modells nicht verwendet wurden.\n",
    "Kennt man die \"Ergebnisse\" (*Label*) der Testdaten, so kann man sehr genau abschätzen, wie gut das trainierte Modell funktioniert.\n",
    "\n",
    "Aber warum benötigt man hier neue Daten? Wäre es nicht gut, wenn man diese Daten auch für das training benutzen würde, um das Modell noch besser zu entwickeln?\n",
    "Ganz im Gegenteil: Im Einsatz wird Ihr Modell immer mit unbekannten Daten arbeiten müssen. Es kommt also vor allem darauf an, wie gut das Modell *generalisiert*.\n",
    "Verwenden Sie alle Ihre Daten für das Training, so wird das Modell vielleicht sehr gute Ergebnisse liefern; aber eben nur für **diese Daten**. Es ist also *übertrainiert* (engl. *overfit*).\n",
    "\n",
    "Um *Overfitting* zu verhindern, sollten Sie also immer einen Teil des Datensatzes für das Testen reservieren.\n",
    "Dieser Teil ist üblicherweise kleiner als der Trainigsdatensatz, wie groß hängt von dem Umfang des Datensatzes ab.\n",
    "\n",
    "Für große Datensätze (z.B. mit mehr als 1 Mio. Datenpunkten) ist es angebracht, ein kleineres Testset (2%) zu verwenden.\n",
    "Bei kleineren Datensätzen ist Testdatensatz von $1/3$ bis $1/5$ der Gesamtdaten üblich.\n",
    "\n",
    "`sklearn` beinhaltet die Funktion `train_test_split` zum automatischen Aufteilen von Daten."
   ]
  },
  {
   "cell_type": "code",
   "execution_count": null,
   "metadata": {
    "scrolled": true
   },
   "outputs": [],
   "source": [
    "train_set, test_set = train_test_split(data_oh, test_size=0.3)\n",
    "train_set.shape, test_set.shape"
   ]
  },
  {
   "cell_type": "markdown",
   "metadata": {},
   "source": [
    "# Optimierungen\n",
    "\n",
    "Um die Qualität der Trainingsdaten weiter zu verbessern, können weitere Techniken zum Einsatz kommen.\n",
    "Einige von diesen Techniken sollen im FOlgenden kurz vorgestellt werden.\n",
    "\n",
    "## Deminsionalitätsreduzierung\n",
    "\n",
    "Bei Erfassen von Daten ist man mmeistens nicht \"wählerisch\". Es wird gesammelt, was erfasst werden kann und nicht so sehr darauf geachtet, welche Daten man später eventuell *benötigt*.\n",
    "Dieser Ansatz ist prinzipiell gut, lässt er doch den größten Spielraum für spätere Analysen.\n",
    "\n",
    "Wenn man nun aber ein gewisse Fragestellung mit einem Datensatz bearbeiten möchte, sind in der Regel nicht alle Attribute des Datensatzes relevant.\n",
    "Sie beim Training beizubehalten bedeutet aber meistens, einen höheren Zeit- und Ressourcenaufwand beim Training der sich nicht selten in einem schlechter trainierten Modell wiederspiegelt.\n",
    "Es ist also empfehlenswert, die Anzahl der Attribute bzw. die *Dimensionalität* des Datensatzes zu reduzieren.\n",
    "\n",
    "Der bekannteste Algorithmen zur Reduzierung der Dimensionalität, ist die sogenannte Hauptkomponentenanalyse, oder auf Englisch **Principle Component Analysis (PCA)**. PCA ist eine Methode aus der Statistik, mit der man aus Daten mit vielen Merkmalen einige Faktoren extrahiert, die für diese Merkmale bestimmend, bzw. am meisten aussagekräftig sind. PCA kann nicht nur zur Reduzierung von Eingaben verwendet, sondern auch zur Visualisierung von Daten mit hoher Dimension in einer 2D-Grafik.\n",
    "\n",
    " Wie PCA genau funktioniert, werden wir an dieser Stelle nicht näher beleuchten, aber wir wollen die PCR-Methode auf unser Daten anwenden und die Ergebnisse darstellen.\n",
    " `sklearn` stellt die Klasse` PCA` bereit, die Attribute auf eine vorgegebene Zahl `n_components` reduzieren kann. Wir werden unseren Datensatz damit in nur 2 Dimensionen darstellen:\n",
    "\n"
   ]
  },
  {
   "cell_type": "code",
   "execution_count": null,
   "metadata": {},
   "outputs": [],
   "source": [
    "pca = PCA(n_components=2).fit(data_clean[ncul])\n",
    "data_pca = pca.transform(data_clean[ncul])\n",
    "data_pca.shape"
   ]
  },
  {
   "cell_type": "markdown",
   "metadata": {},
   "source": [
    "Wir haben mit dem obigen Code die Dimensionen unseres Datensatzes von 7 auf 2 Reduziert, ohne dabei ein größeres Maß and *Informationen* (oder mathematisch gesehen an *Varianz*) zu verlieren."
   ]
  },
  {
   "cell_type": "code",
   "execution_count": null,
   "metadata": {
    "scrolled": true
   },
   "outputs": [],
   "source": [
    "var = pca.explained_variance_ratio_*100\n",
    "print('Die erste Dimension repräsentiert %.2f%% der uerspruenglichen Varianz' %var[0])\n",
    "print('Die erste Dimension repräsentiert %.2f%% der uerspruenglichen Varianz' %var[1])\n",
    "print('Also sind %.2f%% der urspruenglichen Varianz (=Information) erhalten geblieben.' %var.sum())"
   ]
  },
  {
   "cell_type": "markdown",
   "metadata": {},
   "source": [
    "Men den nunmehr noch 2 Merkmalen lassen sich die Daten im 2D-Raum plotten:"
   ]
  },
  {
   "cell_type": "code",
   "execution_count": null,
   "metadata": {
    "scrolled": true
   },
   "outputs": [],
   "source": [
    "plt.scatter(data_pca[:,0], data_pca[:,1])"
   ]
  },
  {
   "cell_type": "markdown",
   "metadata": {},
   "source": [
    "## Whitening\n",
    "\n",
    "Das sogenannte *Whitening* ist eine lineare Transformation die mithilfe einer Hauptkomponentenanalyse durchgeführt werden kann.\n",
    "Dabei wird die Varianz der Hauptkomponenten auf $1$ normiert."
   ]
  },
  {
   "cell_type": "markdown",
   "metadata": {},
   "source": [
    "Betrachten wir die Merkmale `height_cm` und `weight_kg` aus unserem Datensatz. Wir sehen, dass wir die Werte unser Datenpunkte bereits *normiert* haben.\n",
    "In beiden Kategorien ist der Wertebereich zwischen $0.0$ und $1.0$."
   ]
  },
  {
   "cell_type": "code",
   "execution_count": null,
   "metadata": {
    "scrolled": true
   },
   "outputs": [],
   "source": [
    "plt.scatter(data_clean['height_cm'], data_clean['weight_kg'])\n",
    "plt.axis('equal')\n",
    "plt.show()"
   ]
  },
  {
   "cell_type": "markdown",
   "metadata": {},
   "source": [
    "Wenn wir nun die PCA anwenden, beobachten wir eine sehr unterschiedliche Varianz der Hauptkomponenten."
   ]
  },
  {
   "cell_type": "code",
   "execution_count": null,
   "metadata": {
    "scrolled": true
   },
   "outputs": [],
   "source": [
    "pca_wh = PCA(whiten=False).fit_transform(data_clean[['height_cm', 'weight_kg']])\n",
    "\n",
    "print(\"Varianz der Hauptkomponenten:\", pca_wh.std(axis=0)**2)\n",
    "plt.scatter(pca_wh[:,0], pca_wh[:,1])\n",
    "plt.xlabel(\"HK1\")\n",
    "plt.ylabel(\"HK2\")\n",
    "plt.axis('equal')\n",
    "plt.show()"
   ]
  },
  {
   "cell_type": "markdown",
   "metadata": {},
   "source": [
    "Führt man die PCA mit  Pre-Whitening aus, wird die Varianz der Hauptkomponenten auf 1 normiert.\n",
    "Dies kann hilfreich für weitere Verarbeitungschritte der Daten sein."
   ]
  },
  {
   "cell_type": "code",
   "execution_count": null,
   "metadata": {},
   "outputs": [],
   "source": [
    "pca_wh = PCA(whiten=True).fit_transform(data_clean[['height_cm', 'weight_kg']])\n",
    "\n",
    "print(\"Varianz der Hauptkomponenten:\", pca_wh.std(axis=0)**2)\n",
    "plt.scatter(pca_wh[:,0], pca_wh[:,1])\n",
    "plt.xlabel(\"HK1\")\n",
    "plt.ylabel(\"HK2\")\n",
    "plt.axis('equal')\n",
    "plt.show()"
   ]
  },
  {
   "cell_type": "markdown",
   "metadata": {},
   "source": [
    "-----\n",
    "## Übung\n",
    "Erproben Sie die vorgestellten Schritte zur Datenvorverarbeitung anhand eines einfachen Datensatzes.\n",
    "Wir wollen als Beispiel den bekannten `iris` Datensatz verwenden.\n",
    "Dabei handelt es sich um einen Datensatz mit 150 Beobachtungen von 4 Attributen von insgesammt drei Schwertlilienarten (*Iris setosa*, *Iris virginica* und *Iris versicolor*).\n",
    "\n",
    "Die  Attribute sind jeweils die Breite und die Länge des Kelchblatts (*Sepalum*) und des Kronblatts (*Petalum*).\n",
    "Aufgrund dieser 4 Werte lassen sich die Schwertlilienarten recht gut *klassifizieren*.\n",
    "Der Datensatz wird in vielen Beispielen zum Thema *Data Science* verwendet und ist eine Art *Hello World* des Machine Learnings.\n",
    "\n",
    "Wir laden nun den Datensatz über die *Scikit-Learn* Funktion `sklearn.datasets.load_iris` herunter.\n",
    "Danach führen Sie bitte folgende Schritte eigenständig aus:\n",
    "1. Normalisieren des Datensatzes `X` mit der Min-Max-Normalisierung\n",
    "2. Encodieren der Zielvariablen `y` mit der One-Hot Codierung\n",
    "3. Aufteilen des Datensatzes in Trainings- und Testdaten\n",
    "4. Reduzieren des Datensatzes `X` auf 2 Attribute mit PCA und Whitening\n",
    "5. Ploten des Vorverarbeiteten Datensatzes `X`\n",
    "\n"
   ]
  },
  {
   "cell_type": "code",
   "execution_count": null,
   "metadata": {},
   "outputs": [],
   "source": [
    "iris_data = load_iris()\n",
    "X = iris_data.data\n",
    "y = iris_data.target.reshape(-1,1)"
   ]
  },
  {
   "cell_type": "code",
   "execution_count": null,
   "metadata": {},
   "outputs": [],
   "source": [
    "OneHotEncoder(sparse=False).fit_transform(y)"
   ]
  },
  {
   "cell_type": "markdown",
   "metadata": {},
   "source": [
    "### Step 1: Normalisieren\n",
    "Normalisieren Sie `X` mit der **Min-Max-Normalisierung**:"
   ]
  },
  {
   "cell_type": "code",
   "execution_count": null,
   "metadata": {
    "nbgrader": {
     "grade": false,
     "grade_id": "cell-1fe73c54f740280a",
     "locked": false,
     "schema_version": 3,
     "solution": true,
     "task": false
    }
   },
   "outputs": [],
   "source": [
    "X_norm = None\n",
    "### BEGIN SOLUTION\n",
    "X_norm = MinMaxScaler().fit_transform(X)\n",
    "### END SOLUTION"
   ]
  },
  {
   "cell_type": "code",
   "execution_count": null,
   "metadata": {
    "nbgrader": {
     "grade": true,
     "grade_id": "cell-61592fa23ac54864",
     "locked": true,
     "points": 1,
     "schema_version": 3,
     "solution": false,
     "task": false
    }
   },
   "outputs": [],
   "source": [
    "# Test Cell\n",
    "#----------\n",
    "assert type(X_norm) == np.ndarray, 'X_norm should be a numpy array containing transformed output'\n",
    "assert X_norm.ptp() == 1.\n",
    "assert X_norm.shape == X.shape\n",
    "assert (X_norm>=0).all(), 'All values must be positive'"
   ]
  },
  {
   "cell_type": "markdown",
   "metadata": {},
   "source": [
    "### Step 2: Encoding\n",
    "Encodieren Sie `y` mit der **One-Hot Codierung**:"
   ]
  },
  {
   "cell_type": "code",
   "execution_count": null,
   "metadata": {
    "nbgrader": {
     "grade": false,
     "grade_id": "cell-89e062c358c19c5a",
     "locked": false,
     "schema_version": 3,
     "solution": true,
     "task": false
    }
   },
   "outputs": [],
   "source": [
    "y_en = None\n",
    "### BEGIN SOLUTION\n",
    "y_en = OneHotEncoder(sparse=False).fit_transform(y)\n",
    "### END SOLUTION"
   ]
  },
  {
   "cell_type": "code",
   "execution_count": null,
   "metadata": {
    "nbgrader": {
     "grade": true,
     "grade_id": "cell-895432b5eb2d1c4e",
     "locked": true,
     "points": 1,
     "schema_version": 3,
     "solution": false,
     "task": false
    }
   },
   "outputs": [],
   "source": [
    "# Test Cell\n",
    "#----------\n",
    "assert type(y_en) == np.ndarray, 'y_en should be a numpy array containing transformed output'\n",
    "assert y_en.shape == (150, 3), 'There should be 3 columns for the 3 classes'\n",
    "assert y_en.sum() == 150.\n",
    "assert y_en.ptp() == 1."
   ]
  },
  {
   "cell_type": "markdown",
   "metadata": {},
   "source": [
    "### Step 3: Splitting\n",
    "Teilen Sie `X_norm` und `y_en` in einen Test- (`X_test`, `y_test`) und einen Trainingsdatensatz (`X_train`, `y_train`) auf. Der Trainingsdatensatzsoll 70% der Datenpunkte enthalten:"
   ]
  },
  {
   "cell_type": "code",
   "execution_count": null,
   "metadata": {
    "nbgrader": {
     "grade": false,
     "grade_id": "cell-e6715bd44ba5cb27",
     "locked": false,
     "schema_version": 3,
     "solution": true,
     "task": false
    }
   },
   "outputs": [],
   "source": [
    "X_train, X_test, y_train, y_test = [None]*4\n",
    "### BEGIN SOLUTION\n",
    "X_train, X_test, y_train, y_test = train_test_split(X_norm, y_en, test_size=0.3)\n",
    "### END SOLUTION"
   ]
  },
  {
   "cell_type": "code",
   "execution_count": null,
   "metadata": {
    "nbgrader": {
     "grade": true,
     "grade_id": "cell-93f0f1c936fd2a96",
     "locked": true,
     "points": 1,
     "schema_version": 3,
     "solution": false,
     "task": false
    }
   },
   "outputs": [],
   "source": [
    "# Test Cell\n",
    "#----------\n",
    "assert X_train.all() in X_norm, 'X_train data is not in X_norm'\n",
    "assert X_train.shape[0] == X_norm.shape[0]*0.7, 'The size of training set is not matching 70%'\n",
    "assert X_train.shape[0]+X_test.shape[0] == X_norm.shape[0]\n",
    "assert y_train.all() in y_en"
   ]
  },
  {
   "cell_type": "markdown",
   "metadata": {},
   "source": [
    "### Schritt 4: Dimensionsreduktion\n",
    "Reduzieren Sie mittels der Hauptkomponentenanalyse die Datensätze  `X_train` und `X_test` jeweils auf 2 Attribute. Verwenden Sie dabei Whitening."
   ]
  },
  {
   "cell_type": "code",
   "execution_count": null,
   "metadata": {
    "nbgrader": {
     "grade": false,
     "grade_id": "cell-119aa25e921278f2",
     "locked": false,
     "schema_version": 3,
     "solution": true,
     "task": false
    }
   },
   "outputs": [],
   "source": [
    "X_train2d = None\n",
    "X_test2d = None\n",
    "### BEGIN SOLUTION\n",
    "pca2d = PCA(n_components=2, whiten=True)\n",
    "X_train2d = pca2d.fit_transform(X_train)\n",
    "X_test2d = pca2d.transform(X_test)\n",
    "### END SOLUTION"
   ]
  },
  {
   "cell_type": "code",
   "execution_count": null,
   "metadata": {
    "nbgrader": {
     "grade": true,
     "grade_id": "cell-94f1aaad1d1f4ff4",
     "locked": true,
     "points": 1,
     "schema_version": 3,
     "solution": false,
     "task": false
    }
   },
   "outputs": [],
   "source": [
    "# Test Cell\n",
    "#----------\n",
    "assert type(X_train2d) == np.ndarray, 'X_train2d should be a numpy array containing transformed output, not the model'\n",
    "assert X_train2d.shape == (105, 2), 'The number of attributes is not 2'\n",
    "assert X_test2d.shape == (45, 2), 'The number of attributes is not 2'\n",
    "assert np.allclose(X_train2d.std(axis=0).ptp(), 0), 'Attributes have different variances'"
   ]
  },
  {
   "cell_type": "markdown",
   "metadata": {},
   "source": [
    "### Step 5: Visualization\n",
    "Plotten Sie den vorverarbeiteten Trainingsdatensatz `X_train2d` mit der Funktion `plt.scatter`."
   ]
  },
  {
   "cell_type": "code",
   "execution_count": null,
   "metadata": {
    "nbgrader": {
     "grade": true,
     "grade_id": "cell-d666ac76f8b1b04d",
     "locked": false,
     "points": 1,
     "schema_version": 3,
     "solution": true,
     "task": false
    }
   },
   "outputs": [],
   "source": [
    "plt.scatter(X_train2d[:,0], X_train2d[:,1])"
   ]
  },
  {
   "cell_type": "markdown",
   "metadata": {},
   "source": [
    "## Quellen:\n",
    "[1] M. Berthold, C. Borgelt, F. Höppner and F. Klawonn, Guide to Intelligent Data Analysis, London: Springer-Verlag, 2010.  \n",
    "[2] J. VanderPlas, Python Data Science Handbook, O'Reilly Media, Inc., 2016.  "
   ]
  }
 ],
 "metadata": {
  "celltoolbar": "Create Assignment",
  "kernelspec": {
   "display_name": "Python 3",
   "language": "python",
   "name": "python3"
  },
  "language_info": {
   "codemirror_mode": {
    "name": "ipython",
    "version": 3
   },
   "file_extension": ".py",
   "mimetype": "text/x-python",
   "name": "python",
   "nbconvert_exporter": "python",
   "pygments_lexer": "ipython3",
   "version": "3.7.6"
  }
 },
 "nbformat": 4,
 "nbformat_minor": 4
}
